{
  "nbformat": 4,
  "nbformat_minor": 0,
  "metadata": {
    "colab": {
      "name": "ClutchPredictions.ipynb",
      "provenance": [],
      "authorship_tag": "ABX9TyPWitYsN/osqyaPWdEj1EIb",
      "include_colab_link": true
    },
    "kernelspec": {
      "name": "python3",
      "display_name": "Python 3"
    }
  },
  "cells": [
    {
      "cell_type": "markdown",
      "metadata": {
        "id": "view-in-github",
        "colab_type": "text"
      },
      "source": [
        "<a href=\"https://colab.research.google.com/github/jtrussell10/BaseballClutch/blob/master/ClutchPredictions.ipynb\" target=\"_parent\"><img src=\"https://colab.research.google.com/assets/colab-badge.svg\" alt=\"Open In Colab\"/></a>"
      ]
    },
    {
      "cell_type": "code",
      "metadata": {
        "id": "RY_FF43RC9I8",
        "colab_type": "code",
        "colab": {}
      },
      "source": [
        "%%capture\n",
        "import sys\n",
        "\n",
        "!pip install category_encoders==2.*\n",
        "!pip install pandas-profiling==2.*"
      ],
      "execution_count": 675,
      "outputs": []
    },
    {
      "cell_type": "code",
      "metadata": {
        "id": "NseKiKZqgLRV",
        "colab_type": "code",
        "colab": {}
      },
      "source": [
        "#Importing everything necessary \n",
        "import pandas as pd\n",
        "import numpy as np\n",
        "\n",
        "import category_encoders as ce\n",
        "from sklearn.compose import ColumnTransformer\n",
        "from sklearn.pipeline import Pipeline\n",
        "from sklearn.impute import SimpleImputer\n",
        "from sklearn.preprocessing import StandardScaler, OneHotEncoder\n",
        "from sklearn.linear_model import LogisticRegression\n",
        "from sklearn.ensemble import RandomForestClassifier\n",
        "from sklearn.pipeline import make_pipeline\n",
        "from sklearn import linear_model\n",
        "from sklearn.linear_model import LinearRegression\n",
        "from sklearn.linear_model import Lars\n",
        "from sklearn.linear_model import Ridge\n",
        "from sklearn.decomposition import PCA\n",
        "from sklearn.model_selection import train_test_split\n"
      ],
      "execution_count": 676,
      "outputs": []
    },
    {
      "cell_type": "code",
      "metadata": {
        "id": "W6N1sc-Ue99l",
        "colab_type": "code",
        "colab": {}
      },
      "source": [
        "#Importing 2002 to 2017 samples, leaving out 2018 and 2019 to avoid leakage\n",
        "df2 = pd.read_csv('/content/FanGraphs Leaderboard-95.csv')"
      ],
      "execution_count": 677,
      "outputs": []
    },
    {
      "cell_type": "code",
      "metadata": {
        "id": "O9easu5KhKPx",
        "colab_type": "code",
        "colab": {}
      },
      "source": [
        "#Mapping player handedness\n",
        "map = pd.read_csv('/content/Handedness.csv')"
      ],
      "execution_count": 678,
      "outputs": []
    },
    {
      "cell_type": "code",
      "metadata": {
        "id": "xvvVZmC9jwoL",
        "colab_type": "code",
        "colab": {}
      },
      "source": [
        "#Merging dataframes\n",
        "map['playerid'] = map['playerid'].astype(object)\n",
        "df2['playerid'] = df2['playerid'].astype(object)\n",
        "df = pd.merge(df2,map,how='left')"
      ],
      "execution_count": 679,
      "outputs": []
    },
    {
      "cell_type": "code",
      "metadata": {
        "id": "MNY1I9WNfK30",
        "colab_type": "code",
        "colab": {}
      },
      "source": [
        "#Wrangling\n",
        "def wrangle(df):\n",
        "  df = df.drop(['RBI','Name','Team','playerid'], axis=1)\n",
        "  df['WAR/PA'] = df['WAR'] / df['PA']\n",
        "  df['GDP/PA'] = df['GDP'] / df['PA']\n",
        "  df['SB/PA'] = df['SB'] / df['PA']\n",
        "  df['CS/PA'] = df['CS'] / df['PA']\n",
        "  df['IBB/PA'] = df['IBB'] / df['PA']\n",
        "  df['CLUTCH/PA'] = df['Clutch'] / df['PA']\n",
        "  df['Off/PA'] = df['Off'] / df['PA']\n",
        "  df['Def/PA'] = df['Def'] / df['PA']\n",
        "  df['BB%'] = (df['BB%'].str.strip('%').astype(float))\n",
        "  df['K%'] = (df['K%'].str.strip('%').astype(float))\n",
        "  df['LD%'] = (df['LD%'].str.strip('%').astype(float))\n",
        "  df['GB%'] = (df['GB%'].str.strip('%').astype(float))\n",
        "  df['FB%'] = (df['FB%'].str.strip('%').astype(float))\n",
        "  df['IFFB%'] = (df['IFFB%'].str.strip('%').astype(float))\n",
        "  df['O-Swing% (pfx)'] = (df['O-Swing% (pfx)'].str.strip('%').astype(float))\n",
        "  df['Z-Swing% (pfx)'] = (df['Z-Swing% (pfx)'].str.strip('%').astype(float))\n",
        "  df['Swing% (pfx)'] = (df['Swing% (pfx)'].str.strip('%').astype(float))\n",
        "  df['O-Contact% (pfx)'] = (df['O-Contact% (pfx)'].str.strip('%').astype(float))\n",
        "  df['Z-Contact% (pfx)'] = (df['Z-Contact% (pfx)'].str.strip('%').astype(float))\n",
        "  df['Contact% (pfx)'] = (df['Contact% (pfx)'].str.strip('%').astype(float))\n",
        "  df['Zone% (pfx)'] = (df['Zone% (pfx)'].str.strip('%').astype(float))\n",
        "  df['Pull%'] = (df['Pull%'].str.strip('%').astype(float))\n",
        "  df['Cent%'] = (df['Cent%'].str.strip('%').astype(float))\n",
        "  df['Oppo%'] = (df['Oppo%'].str.strip('%').astype(float))\n",
        "  df['Soft%'] = (df['Soft%'].str.strip('%').astype(float))\n",
        "  df['Med%'] = (df['Med%'].str.strip('%').astype(float))\n",
        "  df['Hard%'] = (df['Hard%'].str.strip('%').astype(float))\n",
        "  df['K%+'] = df['K%+'].astype(float)\n",
        "\n",
        "  return df\n",
        "\n",
        "df = wrangle(df)"
      ],
      "execution_count": 681,
      "outputs": []
    },
    {
      "cell_type": "code",
      "metadata": {
        "id": "x23JJF2O_bdk",
        "colab_type": "code",
        "colab": {}
      },
      "source": [
        "#X and y split\n",
        "X = df.drop('Clutch', axis=1)\n",
        "X = X.drop('CLUTCH/PA', axis=1)\n",
        "y = df['CLUTCH/PA']"
      ],
      "execution_count": 682,
      "outputs": []
    },
    {
      "cell_type": "code",
      "metadata": {
        "id": "-qt2x9bT6awT",
        "colab_type": "code",
        "colab": {}
      },
      "source": [
        "#Training and validation split\n",
        "X_train, X_val, y_train, y_val = train_test_split(\n",
        "    X, y, test_size=0.2, random_state=45)"
      ],
      "execution_count": 683,
      "outputs": []
    },
    {
      "cell_type": "code",
      "metadata": {
        "id": "FIaApjJuiIXO",
        "colab_type": "code",
        "colab": {
          "base_uri": "https://localhost:8080/",
          "height": 34
        },
        "outputId": "64dc99cb-716b-4759-b80a-1ed67a315f31"
      },
      "source": [
        "#PCA model 20 components\n",
        "model = make_pipeline(ce.OneHotEncoder(), SimpleImputer(strategy='mean'), \n",
        "                      PCA(n_components=20), LinearRegression())\n",
        "\n",
        "\n",
        "model.fit(X_train, y_train)\n",
        "print ('R2 Score with 20 components:', model.score(X_val, y_val))"
      ],
      "execution_count": 699,
      "outputs": [
        {
          "output_type": "stream",
          "text": [
            "R2 Score with 20 components: 0.05931988829826751\n"
          ],
          "name": "stdout"
        }
      ]
    },
    {
      "cell_type": "code",
      "metadata": {
        "id": "yq8ug93g5w2w",
        "colab_type": "code",
        "colab": {
          "base_uri": "https://localhost:8080/",
          "height": 34
        },
        "outputId": "ca105d5e-d91c-4759-f3aa-564a27a27f9e"
      },
      "source": [
        "#PCA model 60 components\n",
        "model = make_pipeline(ce.OneHotEncoder(), SimpleImputer(strategy='mean'), \n",
        "                      PCA(n_components=60), LinearRegression())\n",
        "\n",
        "\n",
        "model.fit(X_train, y_train)\n",
        "print ('R2 Score with 60 compon', model.score(X_val, y_val))"
      ],
      "execution_count": 698,
      "outputs": [
        {
          "output_type": "stream",
          "text": [
            "R2 Score with 60 components: 0.04831715170988249\n"
          ],
          "name": "stdout"
        }
      ]
    },
    {
      "cell_type": "code",
      "metadata": {
        "id": "M0IrKjGKxsjf",
        "colab_type": "code",
        "colab": {}
      },
      "source": [
        "#Attempting classification, classifying as negative or positive\n",
        "dfC = df['CLUTCH/PA']\n",
        "conditions = [\n",
        "    (df['Clutch'] > 0.00000001),\n",
        "    (df['Clutch'] < 0.00000001)]\n",
        "choices = [1,0]\n",
        "df['CLUTCH/PA'] = np.select(conditions, choices)"
      ],
      "execution_count": 643,
      "outputs": []
    },
    {
      "cell_type": "code",
      "metadata": {
        "id": "6MBalUz2yc0Y",
        "colab_type": "code",
        "colab": {
          "base_uri": "https://localhost:8080/",
          "height": 34
        },
        "outputId": "3b435ba2-7dd9-4086-eba5-fc3fdebfddda"
      },
      "source": [
        "# Baseline for RandomForest, 44.8% of players have positive \"clutch, which means baseline is 55.2% accuracy\"\n",
        "df['CLUTCH/PA'].mean()"
      ],
      "execution_count": 644,
      "outputs": [
        {
          "output_type": "execute_result",
          "data": {
            "text/plain": [
              "0.44828778969214805"
            ]
          },
          "metadata": {
            "tags": []
          },
          "execution_count": 644
        }
      ]
    },
    {
      "cell_type": "code",
      "metadata": {
        "id": "JpEYJ9HPz8ik",
        "colab_type": "code",
        "colab": {}
      },
      "source": [
        "X = df.drop('Clutch', axis=1)\n",
        "X = X.drop('CLUTCH/PA', axis=1)\n",
        "y = df['CLUTCH/PA']"
      ],
      "execution_count": 645,
      "outputs": []
    },
    {
      "cell_type": "code",
      "metadata": {
        "id": "avWWaUUT0LIg",
        "colab_type": "code",
        "colab": {}
      },
      "source": [
        "\n",
        "X_train, X_val, y_train, y_val = train_test_split(\n",
        "    X, y, test_size=0.2, random_state=45)"
      ],
      "execution_count": 646,
      "outputs": []
    },
    {
      "cell_type": "code",
      "metadata": {
        "id": "wY3huJ3Ozi5A",
        "colab_type": "code",
        "colab": {
          "base_uri": "https://localhost:8080/",
          "height": 34
        },
        "outputId": "0a56d820-8eea-4f6d-a3e0-0a28dbba1773"
      },
      "source": [
        "#Baseline is 55.2% accuracy, RFC scores 58.2% accuracy\n",
        "model = make_pipeline(ce.OneHotEncoder(), SimpleImputer(strategy='mean'),\n",
        "    RandomForestClassifier(max_depth=5, random_state=42))\n",
        "\n",
        "\n",
        "model.fit(X_train, y_train)\n",
        "print ('Validation Accuracy', model.score(X_val, y_val))"
      ],
      "execution_count": 647,
      "outputs": [
        {
          "output_type": "stream",
          "text": [
            "Validation Accuracy 0.5820379965457686\n"
          ],
          "name": "stdout"
        }
      ]
    },
    {
      "cell_type": "code",
      "metadata": {
        "id": "cvXXu-JK4WRR",
        "colab_type": "code",
        "colab": {}
      },
      "source": [
        "#Switching categorical back to continuous \n",
        "df['CLUTCH/PA'] = dfC"
      ],
      "execution_count": 703,
      "outputs": []
    },
    {
      "cell_type": "code",
      "metadata": {
        "id": "B5FHH7LMvais",
        "colab_type": "code",
        "colab": {}
      },
      "source": [
        "#Selecting three primary features\n",
        "df =df[['K%+','ISO+','Handedness','Clutch','CLUTCH/PA']]"
      ],
      "execution_count": 649,
      "outputs": []
    },
    {
      "cell_type": "code",
      "metadata": {
        "id": "9InRjFWs6JkU",
        "colab_type": "code",
        "colab": {}
      },
      "source": [
        "X = df.drop('Clutch', axis=1)\n",
        "X = X.drop('CLUTCH/PA', axis=1)\n",
        "y = df['CLUTCH/PA']"
      ],
      "execution_count": 650,
      "outputs": []
    },
    {
      "cell_type": "code",
      "metadata": {
        "id": "UddXqW0oCHkU",
        "colab_type": "code",
        "colab": {}
      },
      "source": [
        "\n",
        "X_train, X_val, y_train, y_val = train_test_split(\n",
        "    X, y, test_size=0.2, random_state=45)"
      ],
      "execution_count": 651,
      "outputs": []
    },
    {
      "cell_type": "code",
      "metadata": {
        "id": "SD90J0BfCyKF",
        "colab_type": "code",
        "colab": {
          "base_uri": "https://localhost:8080/",
          "height": 34
        },
        "outputId": "278cfd7b-ed78-4451-b11b-3293ef314bff"
      },
      "source": [
        "#Linear regression model\n",
        "model = make_pipeline(ce.OneHotEncoder(),\n",
        "    LinearRegression())\n",
        "\n",
        "\n",
        "model.fit(X_train, y_train)\n",
        "print ('Validation Accuracy', model.score(X_val, y_val))"
      ],
      "execution_count": 652,
      "outputs": [
        {
          "output_type": "stream",
          "text": [
            "Validation Accuracy 0.05919577181912372\n"
          ],
          "name": "stdout"
        }
      ]
    },
    {
      "cell_type": "code",
      "metadata": {
        "id": "vuLGtQ62u0UF",
        "colab_type": "code",
        "colab": {}
      },
      "source": [
        "\n",
        "X_train, X_val, y_train, y_val = train_test_split(\n",
        "    X, y, test_size=0.2, random_state=45)"
      ],
      "execution_count": 653,
      "outputs": []
    },
    {
      "cell_type": "code",
      "metadata": {
        "id": "2a640Ib1su9O",
        "colab_type": "code",
        "colab": {
          "base_uri": "https://localhost:8080/",
          "height": 34
        },
        "outputId": "a0451f59-aaa7-4c86-9643-966e40c1ebd6"
      },
      "source": [
        "#Ridge model to reduce overfitting\n",
        "\n",
        "model = make_pipeline(ce.OneHotEncoder(),\n",
        "    Ridge(alpha=200, solver='auto'))\n",
        "\n",
        "\n",
        "model.fit(X_train, y_train)\n",
        "print ('Validation Accuracy', model.score(X_val, y_val))"
      ],
      "execution_count": 654,
      "outputs": [
        {
          "output_type": "stream",
          "text": [
            "Validation Accuracy 0.05761884344686585\n"
          ],
          "name": "stdout"
        }
      ]
    },
    {
      "cell_type": "code",
      "metadata": {
        "id": "ayll7fK5NLJX",
        "colab_type": "code",
        "colab": {}
      },
      "source": [
        "#Test data\n",
        "df3 = pd.read_csv('/content/FanGraphs Leaderboard-98.csv')"
      ],
      "execution_count": 655,
      "outputs": []
    },
    {
      "cell_type": "code",
      "metadata": {
        "id": "FeTQNsSrOoW5",
        "colab_type": "code",
        "colab": {}
      },
      "source": [
        "#Merging with handedness\n",
        "map['playerid'] = map['playerid'].astype(object)\n",
        "df3['playerid'] = df3['playerid'].astype(object)\n",
        "df = pd.merge(df3,map,how='left')"
      ],
      "execution_count": 656,
      "outputs": []
    },
    {
      "cell_type": "code",
      "metadata": {
        "id": "pP8CNRNN3-js",
        "colab_type": "code",
        "colab": {}
      },
      "source": [
        "df = wrangle(df)"
      ],
      "execution_count": 658,
      "outputs": []
    },
    {
      "cell_type": "code",
      "metadata": {
        "id": "72yF4AB7PPZq",
        "colab_type": "code",
        "colab": {}
      },
      "source": [
        "df =df[['K%+','ISO+','Handedness','Clutch','CLUTCH/PA']]"
      ],
      "execution_count": 659,
      "outputs": []
    },
    {
      "cell_type": "code",
      "metadata": {
        "id": "3Kc1TRemPkyS",
        "colab_type": "code",
        "colab": {}
      },
      "source": [
        "X2 = df.drop('Clutch', axis=1)\n",
        "X2 = X2.drop('CLUTCH/PA', axis=1)\n",
        "y2 = df['CLUTCH/PA']"
      ],
      "execution_count": 660,
      "outputs": []
    },
    {
      "cell_type": "code",
      "metadata": {
        "id": "roCwoOUJPqQN",
        "colab_type": "code",
        "colab": {}
      },
      "source": [
        "#Applying model to test data\n",
        "y_pred = model.predict(X2)"
      ],
      "execution_count": 661,
      "outputs": []
    },
    {
      "cell_type": "code",
      "metadata": {
        "id": "5sRvTkvePsUV",
        "colab_type": "code",
        "colab": {
          "base_uri": "https://localhost:8080/",
          "height": 34
        },
        "outputId": "1a8095ef-6c1a-49ab-97a5-690a255d7c6a"
      },
      "source": [
        "#Applying predictive model to players in 2018 and 2019. Test data.\n",
        "from sklearn.metrics import r2_score\n",
        "\n",
        "print ('R2 Score:', r2_score(y2, y_pred2))"
      ],
      "execution_count": 702,
      "outputs": [
        {
          "output_type": "stream",
          "text": [
            "R2 Score: 0.045174594992186456\n"
          ],
          "name": "stdout"
        }
      ]
    },
    {
      "cell_type": "code",
      "metadata": {
        "id": "XJzPNNqMu64S",
        "colab_type": "code",
        "colab": {}
      },
      "source": [
        "#Below is model coefficient things"
      ],
      "execution_count": null,
      "outputs": []
    },
    {
      "cell_type": "code",
      "metadata": {
        "id": "iuNUfbtTQci6",
        "colab_type": "code",
        "colab": {}
      },
      "source": [
        "df4 = X2\n",
        "df4 ['CLUTCH/PA'] = y2\n",
        "df4 ['clutchPred'] = y_pred2\n",
        "df4 ['CLUTCH/PA*600'] = df4 ['CLUTCH/PA'] * 600\n",
        "df4 ['clutchPred*600'] = df4 ['clutchPred'] * 600"
      ],
      "execution_count": 700,
      "outputs": []
    },
    {
      "cell_type": "code",
      "metadata": {
        "id": "3VtZ508J-B46",
        "colab_type": "code",
        "colab": {}
      },
      "source": [
        "df4['Per600'] = df4['clutchPred'] * 600"
      ],
      "execution_count": 664,
      "outputs": []
    },
    {
      "cell_type": "code",
      "metadata": {
        "id": "xYv2LK4M-Jad",
        "colab_type": "code",
        "colab": {}
      },
      "source": [
        "df4['Name'] = df3['Name']\n",
        "df4['Season'] = df3['Season']\n",
        "df4['PA'] = df3['PA']\n",
        "df4['WAR'] = df3['WAR']\n",
        "df4['ClutchADJ'] = df4['WAR'] + (df4['clutchPred'] * df4['PA'])"
      ],
      "execution_count": 665,
      "outputs": []
    },
    {
      "cell_type": "code",
      "metadata": {
        "id": "otJTjReI-OcP",
        "colab_type": "code",
        "colab": {
          "base_uri": "https://localhost:8080/",
          "height": 609
        },
        "outputId": "9004192f-b877-4cac-8f30-bfc04f781435"
      },
      "source": [
        "classifier = model.named_steps['ridge']\n",
        "feature_names = model.named_steps['onehotencoder'].feature_names\n",
        "\n",
        "# Gets model coefs\n",
        "coef_ = classifier.coef_\n",
        "importances = pd.Series(coef_, index=feature_names)\n",
        "import matplotlib.pyplot as plt\n",
        "\n",
        "# Plots coefs \n",
        "plt.figure(figsize=(10,10), facecolor='white')\n",
        "importances.sort_values().plot(kind='barh')"
      ],
      "execution_count": 666,
      "outputs": [
        {
          "output_type": "execute_result",
          "data": {
            "text/plain": [
              "<matplotlib.axes._subplots.AxesSubplot at 0x7f8fd45c1d68>"
            ]
          },
          "metadata": {
            "tags": []
          },
          "execution_count": 666
        },
        {
          "output_type": "display_data",
          "data": {
            "image/png": "[encoded data removed]",
            "text/plain": [
              "<Figure size 720x720 with 1 Axes>"
            ]
          },
          "metadata": {
            "tags": []
          }
        }
      ]
    },
    {
      "cell_type": "code",
      "metadata": {
        "id": "bPaVg0ThPpUx",
        "colab_type": "code",
        "colab": {}
      },
      "source": [
        "import matplotlib.pyplot as plt\n",
        "df3['CLUTCH/PA'] = 600 * (df3['Clutch'] / df3['PA'])\n",
        "df7 = df3.pivot(index='Name', columns='Season', values='CLUTCH/PA').dropna()\n"
      ],
      "execution_count": 667,
      "outputs": []
    },
    {
      "cell_type": "code",
      "metadata": {
        "id": "cjGkQts-OKWu",
        "colab_type": "code",
        "colab": {}
      },
      "source": [
        "import matplotlib.pyplot\n",
        "import pylab"
      ],
      "execution_count": 668,
      "outputs": []
    },
    {
      "cell_type": "code",
      "metadata": {
        "id": "2wIE2jsPU8xb",
        "colab_type": "code",
        "colab": {}
      },
      "source": [
        "df10 = pd.read_csv('/content/clutchyearrs.csv')"
      ],
      "execution_count": 669,
      "outputs": []
    },
    {
      "cell_type": "code",
      "metadata": {
        "id": "t8Kobe2rWGdo",
        "colab_type": "code",
        "colab": {
          "base_uri": "https://localhost:8080/",
          "height": 432
        },
        "outputId": "66387a89-f9fc-42f5-a020-fc0598ea3310"
      },
      "source": [
        "fig = plt.figure(figsize=(10,6))\n",
        "ax = fig.add_subplot(111)\n",
        "\n",
        "\n",
        "# Spines\n",
        "\n",
        "ax.spines['top'].set_visible(False)\n",
        "ax.spines['right'].set_visible(False)\n",
        "\n",
        "#Axis Labels\n",
        "\n",
        "ax.set_ylabel('Clutch/600 PAs in 2018 and 2019 (min. 450 PAs)', fontsize=14, fontweight='normal', y=0.5)\n",
        "ax.set_xlabel('Predicted clutch using K%+, ISO+ and batter handedness', fontsize=14, fontweight='normal', y=0.5)\n",
        "\n",
        "#line\n",
        "\n",
        "ax.scatter(df4 ['clutchPred*600'], df4 ['CLUTCH/PA*600'],c='blue',s=45)\n",
        "\n",
        "#title \n",
        "\n",
        "ax.set_title(\"A small portion of clutch is actual ability\", fontsize = 22,\n",
        "             x= .48, y = 1.055, fontweight='bold')\n",
        "\n",
        "#r2\n",
        "\n",
        "ax.text(s='r = 0.213', x=-0.45, y=1.6, fontsize = 18, weight='normal',\n",
        "        fontweight = 'bold', color='black')\n",
        "\n",
        "\n",
        "fig.set_facecolor('#f4f4f4')\n",
        "ax.set_facecolor('#f4f4f4')\n",
        "\n",
        "plt.savefig('PredictedClutch',  bbox_inches='tight')"
      ],
      "execution_count": 672,
      "outputs": [
        {
          "output_type": "display_data",
          "data": {
            "image/png": "[encoded data removed]",
            "text/plain": [
              "<Figure size 720x432 with 1 Axes>"
            ]
          },
          "metadata": {
            "tags": []
          }
        }
      ]
    },
    {
      "cell_type": "code",
      "metadata": {
        "id": "OqsxvKAqWw0u",
        "colab_type": "code",
        "colab": {
          "base_uri": "https://localhost:8080/",
          "height": 433
        },
        "outputId": "78aeadd0-76de-4f19-b427-654d01315327"
      },
      "source": [
        "fig = plt.figure(figsize=(10,6))\n",
        "ax = fig.add_subplot(111)\n",
        "\n",
        "\n",
        "# Spines\n",
        "\n",
        "ax.spines['top'].set_visible(False)\n",
        "ax.spines['right'].set_visible(False)\n",
        "\n",
        "#Axis Labels\n",
        "\n",
        "ax.set_ylabel('Clutch per 600 PAs in 2019', fontsize=16, fontweight='bold', y=0.5)\n",
        "ax.set_xlabel('Clutch per 600 PAs in 2018', fontsize=16, fontweight='bold', y=0.5)\n",
        "\n",
        "#line\n",
        "\n",
        "ax.scatter(df10['2018'], df10[\"2019\"],c='blue',s=65)\n",
        "\n",
        "#title \n",
        "\n",
        "ax.set_title(\"Between years Clutch is essentially random\", fontsize = 22,\n",
        "             x= .48, y = 1.055, fontweight='bold')\n",
        "\n",
        "#r2\n",
        "\n",
        "ax.text(s='r = -0.108', x=1, y=2, fontsize = 18, weight='normal',\n",
        "        fontweight = 'bold', color='black')\n",
        "\n",
        "\n",
        "fig.set_facecolor('#f4f4f4')\n",
        "ax.set_facecolor('#f4f4f4')\n",
        "\n",
        "plt.savefig('ClutchYears',  bbox_inches='tight')"
      ],
      "execution_count": 673,
      "outputs": [
        {
          "output_type": "display_data",
          "data": {
            "image/png": "[encoded data removed]",
            "text/plain": [
              "<Figure size 720x432 with 1 Axes>"
            ]
          },
          "metadata": {
            "tags": []
          }
        }
      ]
    },
    {
      "cell_type": "code",
      "metadata": {
        "id": "XQRiM2lrbu37",
        "colab_type": "code",
        "colab": {}
      },
      "source": [
        ""
      ],
      "execution_count": 673,
      "outputs": []
    }
  ]
}